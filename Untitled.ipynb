{
 "cells": [
  {
   "cell_type": "code",
   "execution_count": null,
   "metadata": {
    "collapsed": false,
    "scrolled": true
   },
   "outputs": [],
   "source": [
    "import sandbox_new as s\n",
    "import matplotlib.pyplot as pl\n",
    "%matplotlib inline"
   ]
  },
  {
   "cell_type": "code",
   "execution_count": null,
   "metadata": {
    "collapsed": false,
    "scrolled": false
   },
   "outputs": [],
   "source": [
    "s.model_statistics_on_task(5,1,1)"
   ]
  },
  {
   "cell_type": "code",
   "execution_count": null,
   "metadata": {
    "collapsed": false
   },
   "outputs": [],
   "source": [
    "s.train_network_ui(4,1,1)"
   ]
  },
  {
   "cell_type": "code",
   "execution_count": null,
   "metadata": {
    "collapsed": false
   },
   "outputs": [],
   "source": [
    "s.train_network_ui(1,1,1)"
   ]
  },
  {
   "cell_type": "code",
   "execution_count": null,
   "metadata": {
    "collapsed": false
   },
   "outputs": [],
   "source": [
    "from IPython.display import SVG\n",
    "from keras.utils.visualize_util import model_to_dot\n",
    "import network_res as nn\n",
    "model = nn.get_model(0).model\n",
    "SVG(model_to_dot(model).create(prog='dot', format='svg'))\n"
   ]
  },
  {
   "cell_type": "code",
   "execution_count": null,
   "metadata": {
    "collapsed": false,
    "scrolled": true
   },
   "outputs": [
    {
     "name": "stderr",
     "output_type": "stream",
     "text": [
      "Using Theano backend.\n"
     ]
    },
    {
     "name": "stdout",
     "output_type": "stream",
     "text": [
      "Representation :  [(4, 0), (1, 1)]\n",
      "Labels shape: (5000, 6)\n",
      "Labels look like this : \n",
      "[ 0.  0.  0.  0.  1.  0.]\n",
      "DimShuffle{0,2,3,1}.0\n",
      "DimShuffle{0,2,3,1}.0\n",
      "Elemwise{switch,no_inplace}.0\n",
      "Elemwise{switch,no_inplace}.0\n",
      "Training started\n",
      "Fitting\n",
      "Training end\n",
      "Representation for accuracy:  [(4, 0), (1, 1)]\n",
      "5000/5000 [==============================] - 18s    \n",
      "Accuracy 0.4476\n",
      "Old accuracy:  0.4476\n"
     ]
    }
   ],
   "source": [
    "import sandbox_new as s\n",
    "#s.reset()\n",
    "print(s.train_network_ui(5,1,0))\n",
    "print(s.train_network_ui(4,1,0))\n",
    "print(s.train_network_ui(3,1,0))\n",
    "\n"
   ]
  },
  {
   "cell_type": "code",
   "execution_count": null,
   "metadata": {
    "collapsed": false
   },
   "outputs": [],
   "source": [
    "#s.use_network('network_optimized')\n",
    "#s.reset()\n",
    "import sandbox_new as s\n",
    "import matplotlib.pyplot as pl\n",
    "%matplotlib inline\n",
    "print(s.model_statistics_on_task(1,2,60))\n",
    "print(s.model_statistics_on_task(2,2,60))"
   ]
  },
  {
   "cell_type": "code",
   "execution_count": null,
   "metadata": {
    "collapsed": true
   },
   "outputs": [],
   "source": [
    "import label_cl"
   ]
  },
  {
   "cell_type": "code",
   "execution_count": null,
   "metadata": {
    "collapsed": true
   },
   "outputs": [],
   "source": []
  }
 ],
 "metadata": {
  "kernelspec": {
   "display_name": "Python 3",
   "language": "python",
   "name": "python3"
  },
  "language_info": {
   "codemirror_mode": {
    "name": "ipython",
    "version": 3
   },
   "file_extension": ".py",
   "mimetype": "text/x-python",
   "name": "python",
   "nbconvert_exporter": "python",
   "pygments_lexer": "ipython3",
   "version": "3.5.2"
  }
 },
 "nbformat": 4,
 "nbformat_minor": 0
}
