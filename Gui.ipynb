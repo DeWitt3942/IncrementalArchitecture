{
 "cells": [
  {
   "cell_type": "code",
   "execution_count": 1,
   "metadata": {
    "collapsed": false,
    "scrolled": true
   },
   "outputs": [
    {
     "name": "stderr",
     "output_type": "stream",
     "text": [
      "Using Theano backend.\n"
     ]
    }
   ],
   "source": [
    "import sandbox as s\n",
    "import matplotlib.pyplot as plt\n",
    "%matplotlib inline"
   ]
  },
  {
   "cell_type": "code",
   "execution_count": null,
   "metadata": {
    "collapsed": false
   },
   "outputs": [
    {
     "name": "stdout",
     "output_type": "stream",
     "text": [
      "Representation :  [(8, 1)]\n",
      "Labels shape: (5000, 9)\n",
      "Labels look like this : \n",
      "[ 0.  0.  0.  0.  0.  1.  0.  0.  0.]\n",
      "0\n",
      "1\n",
      "2\n",
      "3\n",
      "4\n",
      "image_input\n",
      "Trainable layers:\n",
      "maxpooling2d_2\n",
      "maxpooling2d_1\n",
      "convolution2d_1\n",
      "activation_1\n",
      "maxpooling2d_3\n",
      "convolution2d_2\n",
      "activation_2\n",
      "dropout_1\n",
      "convolution2d_3\n",
      "activation_3\n",
      "dropout_2\n",
      "convolution2d_4\n",
      "activation_4\n",
      "flatten_1\n",
      "dense_1\n",
      "activation_5\n",
      "dropout_3\n",
      "dense_2\n",
      "____________________________________________________________________________________________________\n",
      "Layer (type)                     Output Shape          Param #     Connected to                     \n",
      "====================================================================================================\n",
      "image_input (InputLayer)         (None, 64, 64, 3)     0                                            \n",
      "____________________________________________________________________________________________________\n",
      "maxpooling2d_2 (MaxPooling2D)    (None, 64, 64, 1)     0           image_input[0][0]                \n",
      "____________________________________________________________________________________________________\n",
      "maxpooling2d_1 (MaxPooling2D)    (None, 32, 32, 1)     0           maxpooling2d_2[0][0]             \n",
      "____________________________________________________________________________________________________\n",
      "convolution2d_1 (Convolution2D)  (None, 64, 32, 1)     18496       maxpooling2d_1[0][0]             \n",
      "____________________________________________________________________________________________________\n",
      "activation_1 (Activation)        (None, 64, 32, 1)     0           convolution2d_1[0][0]            \n",
      "____________________________________________________________________________________________________\n",
      "maxpooling2d_3 (MaxPooling2D)    (None, 32, 16, 1)     0           activation_1[0][0]               \n",
      "____________________________________________________________________________________________________\n",
      "convolution2d_2 (Convolution2D)  (None, 64, 16, 1)     18496       maxpooling2d_3[0][0]             \n",
      "____________________________________________________________________________________________________\n",
      "activation_2 (Activation)        (None, 64, 16, 1)     0           convolution2d_2[0][0]            \n",
      "____________________________________________________________________________________________________\n",
      "dropout_1 (Dropout)              (None, 64, 16, 1)     0           activation_2[0][0]               \n",
      "____________________________________________________________________________________________________\n",
      "convolution2d_3 (Convolution2D)  (None, 64, 16, 1)     36928       dropout_1[0][0]                  \n",
      "____________________________________________________________________________________________________\n",
      "activation_3 (Activation)        (None, 64, 16, 1)     0           convolution2d_3[0][0]            \n",
      "____________________________________________________________________________________________________\n",
      "dropout_2 (Dropout)              (None, 64, 16, 1)     0           activation_3[0][0]               \n",
      "____________________________________________________________________________________________________\n",
      "convolution2d_4 (Convolution2D)  (None, 64, 16, 1)     36928       dropout_2[0][0]                  \n",
      "____________________________________________________________________________________________________\n",
      "activation_4 (Activation)        (None, 64, 16, 1)     0           convolution2d_4[0][0]            \n",
      "____________________________________________________________________________________________________\n",
      "flatten_1 (Flatten)              (None, 1024)          0           activation_4[0][0]               \n",
      "____________________________________________________________________________________________________\n",
      "dense_1 (Dense)                  (None, 256)           262400      flatten_1[0][0]                  \n",
      "____________________________________________________________________________________________________\n",
      "activation_5 (Activation)        (None, 256)           0           dense_1[0][0]                    \n",
      "____________________________________________________________________________________________________\n",
      "dropout_3 (Dropout)              (None, 256)           0           activation_5[0][0]               \n",
      "____________________________________________________________________________________________________\n",
      "dense_2 (Dense)                  (None, 9)             2313        dropout_3[0][0]                  \n",
      "====================================================================================================\n",
      "Total params: 375561\n",
      "____________________________________________________________________________________________________\n",
      "Training started\n",
      "Fitting\n",
      "Epoch 1/60\n",
      "5000/5000 [==============================] - 15s - loss: 2.4507 - acc: 0.1354    \n",
      "Epoch 2/60\n",
      "5000/5000 [==============================] - 16s - loss: 2.0366 - acc: 0.2366    \n",
      "Epoch 3/60\n",
      "5000/5000 [==============================] - 16s - loss: 1.7082 - acc: 0.3246    \n",
      "Epoch 4/60\n",
      "5000/5000 [==============================] - 18s - loss: 1.4778 - acc: 0.3972    \n",
      "Epoch 5/60\n",
      "5000/5000 [==============================] - 16s - loss: 1.2896 - acc: 0.4596    \n",
      "Epoch 6/60\n",
      "5000/5000 [==============================] - 18s - loss: 1.1430 - acc: 0.5240    \n",
      "Epoch 7/60\n",
      " 960/5000 [====>.........................] - ETA: 13s - loss: 1.1099 - acc: 0.5375"
     ]
    }
   ],
   "source": [
    "history = s.train_network_ui(1, 2, 60)"
   ]
  },
  {
   "cell_type": "code",
   "execution_count": null,
   "metadata": {
    "collapsed": false
   },
   "outputs": [],
   "source": [
    "history = s.train_network_ui(2, 2, 60)"
   ]
  },
  {
   "cell_type": "code",
   "execution_count": null,
   "metadata": {
    "collapsed": false,
    "scrolled": false
   },
   "outputs": [],
   "source": [
    "s.evaluate_accuracy(3,1, True)"
   ]
  },
  {
   "cell_type": "code",
   "execution_count": null,
   "metadata": {
    "collapsed": false
   },
   "outputs": [],
   "source": [
    "history.history.keys()"
   ]
  },
  {
   "cell_type": "code",
   "execution_count": null,
   "metadata": {
    "collapsed": false,
    "scrolled": false
   },
   "outputs": [],
   "source": [
    "plt.plot(history.history['loss'])"
   ]
  },
  {
   "cell_type": "code",
   "execution_count": null,
   "metadata": {
    "collapsed": false
   },
   "outputs": [],
   "source": []
  },
  {
   "cell_type": "code",
   "execution_count": null,
   "metadata": {
    "collapsed": false,
    "scrolled": true
   },
   "outputs": [],
   "source": [
    "s.show_model()"
   ]
  },
  {
   "cell_type": "code",
   "execution_count": null,
   "metadata": {
    "collapsed": false,
    "scrolled": true
   },
   "outputs": [],
   "source": [
    "#s.evaluate_accuracy(1,1)"
   ]
  },
  {
   "cell_type": "code",
   "execution_count": null,
   "metadata": {
    "collapsed": true
   },
   "outputs": [],
   "source": []
  }
 ],
 "metadata": {
  "kernelspec": {
   "display_name": "Python 3",
   "language": "python",
   "name": "python3"
  },
  "language_info": {
   "codemirror_mode": {
    "name": "ipython",
    "version": 3
   },
   "file_extension": ".py",
   "mimetype": "text/x-python",
   "name": "python",
   "nbconvert_exporter": "python",
   "pygments_lexer": "ipython3",
   "version": "3.5.2"
  }
 },
 "nbformat": 4,
 "nbformat_minor": 0
}
