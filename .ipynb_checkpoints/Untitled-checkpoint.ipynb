{
 "cells": [
  {
   "cell_type": "code",
   "execution_count": null,
   "metadata": {
    "collapsed": false,
    "scrolled": true
   },
   "outputs": [],
   "source": [
    "import sandbox_new as s\n",
    "import matplotlib.pyplot as plt\n",
    "import network_optimized as nn\n",
    "%matplotlib inline"
   ]
  },
  {
   "cell_type": "code",
   "execution_count": null,
   "metadata": {
    "collapsed": false,
    "scrolled": true
   },
   "outputs": [],
   "source": [
    "s.train_network_ui(1, 1, 1)\n",
    "s.train_network_ui(1, 2, 1)\n",
    "s.train_network_ui(2, 1, 1)\n",
    "\n",
    "\"\"\"s.train_network_ui(1, 1, 20) #2 mins\n",
    "s.train_network_ui(1, 2, 40) #4 mins\n",
    "s.train_network_ui(2, 1, 30) #3mins\n",
    "s.train_network_ui(2, 2, 60) #6 mins\n",
    "s.train_network_ui(3, 1, 30) #3mins\n",
    "s.train_network_ui(3, 2, 40) #4mins\n",
    "s.train_network_ui(4, 1, 30) #3mins\n",
    "s.train_network_ui(4, 2, 50) #5mins\n",
    "s.train_network_ui(5, 1, 15) #1.5mins\n",
    "s.train_network_ui(5, 2, 20) #2mins\n",
    "s.train_network_ui(6, 1, 25) #2.5mins\n",
    "s.train_network_ui(6, 2, 60) #6mins\n",
    "\n",
    "print(\"TRAINEEEED!\")\n",
    "\"\"\"\n",
    "\n",
    "\n",
    "\n",
    "\n",
    "#s.train_network_ui(4,1,20)\n",
    "#s.train_network_ui(4,1,20)\n"
   ]
  },
  {
   "cell_type": "code",
   "execution_count": null,
   "metadata": {
    "collapsed": false
   },
   "outputs": [],
   "source": [
    "#p2, = plt.plot(Out[3], label='t11-t12')\n",
    "#p3, = plt.plot(Out[12], label='t12')\n",
    "#p4, = plt.plot(Out[15], label='t12-t22')\n",
    "#p5, = plt.plot(Out[18], label='t22')\n",
    "p6, = plt.plot(Out[4], label='t11-1')\n",
    "p7, = plt.plot(Out[2], label='t31-2')\n",
    "\n",
    "\n",
    "\n",
    "plt.legend(handles=[p6, p7])\n",
    "\n",
    "\n",
    "plt.plot()\n",
    "plt.show()\n",
    "#nn.clear()"
   ]
  },
  {
   "cell_type": "code",
   "execution_count": null,
   "metadata": {
    "collapsed": true
   },
   "outputs": [],
   "source": []
  }
 ],
 "metadata": {
  "kernelspec": {
   "display_name": "Python 3",
   "language": "python",
   "name": "python3"
  },
  "language_info": {
   "codemirror_mode": {
    "name": "ipython",
    "version": 3
   },
   "file_extension": ".py",
   "mimetype": "text/x-python",
   "name": "python",
   "nbconvert_exporter": "python",
   "pygments_lexer": "ipython3",
   "version": "3.5.2"
  }
 },
 "nbformat": 4,
 "nbformat_minor": 0
}
