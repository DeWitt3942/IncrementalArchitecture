{
 "cells": [
  {
   "cell_type": "code",
   "execution_count": 1,
   "metadata": {
    "collapsed": false,
    "scrolled": true
   },
   "outputs": [
    {
     "name": "stderr",
     "output_type": "stream",
     "text": [
      "Using Theano backend.\n"
     ]
    },
    {
     "name": "stdout",
     "output_type": "stream",
     "text": [
      "Images shape: ' (5000, 64, 64, 3)\n",
      "[(2, 1), (3, 1)]\n"
     ]
    }
   ],
   "source": [
    "import sandbox as s\n",
    "import matplotlib.pyplot as plt\n",
    "%matplotlib inline"
   ]
  },
  {
   "cell_type": "code",
   "execution_count": 2,
   "metadata": {
    "collapsed": false
   },
   "outputs": [
    {
     "name": "stdout",
     "output_type": "stream",
     "text": [
      "Images shape: ' (5000, 64, 64, 3)\n",
      "Labels shape: (5000, 5)\n",
      "Labels look like this : \n",
      "[ 0.  1.  0.  0.  0.]\n",
      "0\n",
      "1\n",
      "2\n",
      "3\n",
      "4\n",
      "____________________________________________________________________________________________________\n",
      "Layer (type)                     Output Shape          Param #     Connected to                     \n",
      "====================================================================================================\n",
      "image_input (InputLayer)         (None, 64, 64, 3)     0                                            \n",
      "____________________________________________________________________________________________________\n",
      "maxpooling2d_2 (MaxPooling2D)    (None, 64, 64, 1)     0           image_input[0][0]                \n",
      "____________________________________________________________________________________________________\n",
      "maxpooling2d_1 (MaxPooling2D)    (None, 32, 32, 1)     0           maxpooling2d_2[0][0]             \n",
      "____________________________________________________________________________________________________\n",
      "convolution2d_1 (Convolution2D)  (None, 64, 32, 1)     18496       maxpooling2d_1[0][0]             \n",
      "____________________________________________________________________________________________________\n",
      "activation_1 (Activation)        (None, 64, 32, 1)     0           convolution2d_1[0][0]            \n",
      "____________________________________________________________________________________________________\n",
      "maxpooling2d_3 (MaxPooling2D)    (None, 32, 16, 1)     0           activation_1[0][0]               \n",
      "____________________________________________________________________________________________________\n",
      "convolution2d_2 (Convolution2D)  (None, 64, 16, 1)     18496       maxpooling2d_3[0][0]             \n",
      "____________________________________________________________________________________________________\n",
      "activation_2 (Activation)        (None, 64, 16, 1)     0           convolution2d_2[0][0]            \n",
      "____________________________________________________________________________________________________\n",
      "dropout_1 (Dropout)              (None, 64, 16, 1)     0           activation_2[0][0]               \n",
      "____________________________________________________________________________________________________\n",
      "convolution2d_3 (Convolution2D)  (None, 64, 16, 1)     36928       dropout_1[0][0]                  \n",
      "____________________________________________________________________________________________________\n",
      "activation_3 (Activation)        (None, 64, 16, 1)     0           convolution2d_3[0][0]            \n",
      "____________________________________________________________________________________________________\n",
      "dropout_2 (Dropout)              (None, 64, 16, 1)     0           activation_3[0][0]               \n",
      "____________________________________________________________________________________________________\n",
      "convolution2d_4 (Convolution2D)  (None, 64, 16, 1)     36928       dropout_2[0][0]                  \n",
      "____________________________________________________________________________________________________\n",
      "activation_4 (Activation)        (None, 64, 16, 1)     0           convolution2d_4[0][0]            \n",
      "____________________________________________________________________________________________________\n",
      "flatten_1 (Flatten)              (None, 1024)          0           activation_4[0][0]               \n",
      "____________________________________________________________________________________________________\n",
      "dense_1 (Dense)                  (None, 256)           262400      flatten_1[0][0]                  \n",
      "____________________________________________________________________________________________________\n",
      "activation_5 (Activation)        (None, 256)           0           dense_1[0][0]                    \n",
      "____________________________________________________________________________________________________\n",
      "dropout_3 (Dropout)              (None, 256)           0           activation_5[0][0]               \n",
      "____________________________________________________________________________________________________\n",
      "dense_2 (Dense)                  (None, 5)             1285        dropout_3[0][0]                  \n",
      "====================================================================================================\n",
      "Total params: 374533\n",
      "____________________________________________________________________________________________________\n",
      "Training started\n",
      "Fitting\n",
      "Epoch 1/20\n",
      "5000/5000 [==============================] - 5s - loss: 1.4733     \n",
      "Epoch 2/20\n",
      "5000/5000 [==============================] - 5s - loss: 0.6774     \n",
      "Epoch 3/20\n",
      "5000/5000 [==============================] - 6s - loss: 0.4985     \n",
      "Epoch 4/20\n",
      "5000/5000 [==============================] - 6s - loss: 0.4292     \n",
      "Epoch 5/20\n",
      "5000/5000 [==============================] - 5s - loss: 0.3015     \n",
      "Epoch 6/20\n",
      "5000/5000 [==============================] - 5s - loss: 0.2568     \n",
      "Epoch 7/20\n",
      "5000/5000 [==============================] - 6s - loss: 0.2301     \n",
      "Epoch 8/20\n",
      "5000/5000 [==============================] - 5s - loss: 0.2153     \n",
      "Epoch 9/20\n",
      "5000/5000 [==============================] - 5s - loss: 0.2725     \n",
      "Epoch 10/20\n",
      "5000/5000 [==============================] - 5s - loss: 0.2044     \n",
      "Epoch 11/20\n",
      "5000/5000 [==============================] - 5s - loss: 0.1954     \n",
      "Epoch 12/20\n",
      "5000/5000 [==============================] - 5s - loss: 0.1650     \n",
      "Epoch 13/20\n",
      "5000/5000 [==============================] - 5s - loss: 0.1625     \n",
      "Epoch 14/20\n",
      "5000/5000 [==============================] - 5s - loss: 0.1593     \n",
      "Epoch 15/20\n",
      "5000/5000 [==============================] - 5s - loss: 0.1805     \n",
      "Epoch 16/20\n",
      "5000/5000 [==============================] - 5s - loss: 0.1556     \n",
      "Epoch 17/20\n",
      "5000/5000 [==============================] - 5s - loss: 0.1327     \n",
      "Epoch 18/20\n",
      "5000/5000 [==============================] - 5s - loss: 0.1261     \n",
      "Epoch 19/20\n",
      "5000/5000 [==============================] - 5s - loss: 0.1632     \n",
      "Epoch 20/20\n",
      "5000/5000 [==============================] - 5s - loss: 0.1356     \n",
      "Training end\n"
     ]
    }
   ],
   "source": [
    "history = s.train_network_ui(3, 1,20)"
   ]
  },
  {
   "cell_type": "code",
   "execution_count": 3,
   "metadata": {
    "collapsed": false,
    "scrolled": false
   },
   "outputs": [
    {
     "name": "stdout",
     "output_type": "stream",
     "text": [
      "reading and processing testing data\n",
      "Images shape: ' (5000, 64, 64, 3)\n",
      "Getting representation\n",
      "read\n",
      "predicting..\n",
      "4992/5000 [============================>.] - ETA: 0sAccuracy 0.9574\n"
     ]
    },
    {
     "data": {
      "text/plain": [
       "0.9574"
      ]
     },
     "execution_count": 3,
     "metadata": {},
     "output_type": "execute_result"
    }
   ],
   "source": [
    "s.evaluate_accuracy(3,1, True)"
   ]
  },
  {
   "cell_type": "code",
   "execution_count": 4,
   "metadata": {
    "collapsed": false
   },
   "outputs": [
    {
     "data": {
      "text/plain": [
       "dict_keys(['loss'])"
      ]
     },
     "execution_count": 4,
     "metadata": {},
     "output_type": "execute_result"
    }
   ],
   "source": [
    "history.history.keys()"
   ]
  },
  {
   "cell_type": "code",
   "execution_count": 5,
   "metadata": {
    "collapsed": false,
    "scrolled": false
   },
   "outputs": [
    {
     "data": {
      "text/plain": [
       "[<matplotlib.lines.Line2D at 0x7fb9a2b0c978>]"
      ]
     },
     "execution_count": 5,
     "metadata": {},
     "output_type": "execute_result"
    },
    {
     "data": {
      "image/png": "[encoded data removed]",
      "text/plain": [
       "<matplotlib.figure.Figure at 0x7fb990ad5550>"
      ]
     },
     "metadata": {},
     "output_type": "display_data"
    }
   ],
   "source": [
    "plt.plot(history.history['loss'])"
   ]
  },
  {
   "cell_type": "code",
   "execution_count": null,
   "metadata": {
    "collapsed": false
   },
   "outputs": [],
   "source": []
  },
  {
   "cell_type": "code",
   "execution_count": 6,
   "metadata": {
    "collapsed": false,
    "scrolled": true
   },
   "outputs": [
    {
     "data": {
      "image/svg+xml": [
       "<svg height=\"1359pt\" viewBox=\"0.00 0.00 264.00 1359.00\" width=\"264pt\" xmlns=\"http://www.w3.org/2000/svg\" xmlns:xlink=\"http://www.w3.org/1999/xlink\">\n",
       "<g class=\"graph\" id=\"graph0\" transform=\"scale(1 1) rotate(0) translate(4 1355)\">\n",
       "<title>G</title>\n",
       "<polygon fill=\"white\" points=\"-4,4 -4,-1355 260,-1355 260,4 -4,4\" stroke=\"none\"/>\n",
       "<!-- 140435283618168 -->\n",
       "<g class=\"node\" id=\"node1\"><title>140435283618168</title>\n",
       "<polygon fill=\"none\" points=\"28,-1314.5 28,-1350.5 228,-1350.5 228,-1314.5 28,-1314.5\" stroke=\"black\"/>\n",
       "<text font-family=\"Times,serif\" font-size=\"14.00\" text-anchor=\"middle\" x=\"128\" y=\"-1328.8\">image_input (InputLayer)</text>\n",
       "</g>\n",
       "<!-- 140435282503160 -->\n",
       "<g class=\"node\" id=\"node2\"><title>140435282503160</title>\n",
       "<polygon fill=\"none\" points=\"1.5,-1241.5 1.5,-1277.5 254.5,-1277.5 254.5,-1241.5 1.5,-1241.5\" stroke=\"black\"/>\n",
       "<text font-family=\"Times,serif\" font-size=\"14.00\" text-anchor=\"middle\" x=\"128\" y=\"-1255.8\">maxpooling2d_2 (MaxPooling2D)</text>\n",
       "</g>\n",
       "<!-- 140435283618168&#45;&gt;140435282503160 -->\n",
       "<g class=\"edge\" id=\"edge1\"><title>140435283618168-&gt;140435282503160</title>\n",
       "<path d=\"M128,-1314.31C128,-1306.29 128,-1296.55 128,-1287.57\" fill=\"none\" stroke=\"black\"/>\n",
       "<polygon fill=\"black\" points=\"131.5,-1287.53 128,-1277.53 124.5,-1287.53 131.5,-1287.53\" stroke=\"black\"/>\n",
       "</g>\n",
       "<!-- 140435282502600 -->\n",
       "<g class=\"node\" id=\"node3\"><title>140435282502600</title>\n",
       "<polygon fill=\"none\" points=\"1.5,-1168.5 1.5,-1204.5 254.5,-1204.5 254.5,-1168.5 1.5,-1168.5\" stroke=\"black\"/>\n",
       "<text font-family=\"Times,serif\" font-size=\"14.00\" text-anchor=\"middle\" x=\"128\" y=\"-1182.8\">maxpooling2d_1 (MaxPooling2D)</text>\n",
       "</g>\n",
       "<!-- 140435282503160&#45;&gt;140435282502600 -->\n",
       "<g class=\"edge\" id=\"edge2\"><title>140435282503160-&gt;140435282502600</title>\n",
       "<path d=\"M128,-1241.31C128,-1233.29 128,-1223.55 128,-1214.57\" fill=\"none\" stroke=\"black\"/>\n",
       "<polygon fill=\"black\" points=\"131.5,-1214.53 128,-1204.53 124.5,-1214.53 131.5,-1214.53\" stroke=\"black\"/>\n",
       "</g>\n",
       "<!-- 140435282354304 -->\n",
       "<g class=\"node\" id=\"node4\"><title>140435282354304</title>\n",
       "<polygon fill=\"none\" points=\"0,-1095.5 0,-1131.5 256,-1131.5 256,-1095.5 0,-1095.5\" stroke=\"black\"/>\n",
       "<text font-family=\"Times,serif\" font-size=\"14.00\" text-anchor=\"middle\" x=\"128\" y=\"-1109.8\">convolution2d_1 (Convolution2D)</text>\n",
       "</g>\n",
       "<!-- 140435282502600&#45;&gt;140435282354304 -->\n",
       "<g class=\"edge\" id=\"edge3\"><title>140435282502600-&gt;140435282354304</title>\n",
       "<path d=\"M128,-1168.31C128,-1160.29 128,-1150.55 128,-1141.57\" fill=\"none\" stroke=\"black\"/>\n",
       "<polygon fill=\"black\" points=\"131.5,-1141.53 128,-1131.53 124.5,-1141.53 131.5,-1141.53\" stroke=\"black\"/>\n",
       "</g>\n",
       "<!-- 140435210901096 -->\n",
       "<g class=\"node\" id=\"node5\"><title>140435210901096</title>\n",
       "<polygon fill=\"none\" points=\"31.5,-1022.5 31.5,-1058.5 224.5,-1058.5 224.5,-1022.5 31.5,-1022.5\" stroke=\"black\"/>\n",
       "<text font-family=\"Times,serif\" font-size=\"14.00\" text-anchor=\"middle\" x=\"128\" y=\"-1036.8\">activation_1 (Activation)</text>\n",
       "</g>\n",
       "<!-- 140435282354304&#45;&gt;140435210901096 -->\n",
       "<g class=\"edge\" id=\"edge4\"><title>140435282354304-&gt;140435210901096</title>\n",
       "<path d=\"M128,-1095.31C128,-1087.29 128,-1077.55 128,-1068.57\" fill=\"none\" stroke=\"black\"/>\n",
       "<polygon fill=\"black\" points=\"131.5,-1068.53 128,-1058.53 124.5,-1068.53 131.5,-1068.53\" stroke=\"black\"/>\n",
       "</g>\n",
       "<!-- 140435210465912 -->\n",
       "<g class=\"node\" id=\"node6\"><title>140435210465912</title>\n",
       "<polygon fill=\"none\" points=\"1.5,-949.5 1.5,-985.5 254.5,-985.5 254.5,-949.5 1.5,-949.5\" stroke=\"black\"/>\n",
       "<text font-family=\"Times,serif\" font-size=\"14.00\" text-anchor=\"middle\" x=\"128\" y=\"-963.8\">maxpooling2d_3 (MaxPooling2D)</text>\n",
       "</g>\n",
       "<!-- 140435210901096&#45;&gt;140435210465912 -->\n",
       "<g class=\"edge\" id=\"edge5\"><title>140435210901096-&gt;140435210465912</title>\n",
       "<path d=\"M128,-1022.31C128,-1014.29 128,-1004.55 128,-995.569\" fill=\"none\" stroke=\"black\"/>\n",
       "<polygon fill=\"black\" points=\"131.5,-995.529 128,-985.529 124.5,-995.529 131.5,-995.529\" stroke=\"black\"/>\n",
       "</g>\n",
       "<!-- 140435210467144 -->\n",
       "<g class=\"node\" id=\"node7\"><title>140435210467144</title>\n",
       "<polygon fill=\"none\" points=\"0,-876.5 0,-912.5 256,-912.5 256,-876.5 0,-876.5\" stroke=\"black\"/>\n",
       "<text font-family=\"Times,serif\" font-size=\"14.00\" text-anchor=\"middle\" x=\"128\" y=\"-890.8\">convolution2d_2 (Convolution2D)</text>\n",
       "</g>\n",
       "<!-- 140435210465912&#45;&gt;140435210467144 -->\n",
       "<g class=\"edge\" id=\"edge6\"><title>140435210465912-&gt;140435210467144</title>\n",
       "<path d=\"M128,-949.313C128,-941.289 128,-931.547 128,-922.569\" fill=\"none\" stroke=\"black\"/>\n",
       "<polygon fill=\"black\" points=\"131.5,-922.529 128,-912.529 124.5,-922.529 131.5,-922.529\" stroke=\"black\"/>\n",
       "</g>\n",
       "<!-- 140435210017984 -->\n",
       "<g class=\"node\" id=\"node8\"><title>140435210017984</title>\n",
       "<polygon fill=\"none\" points=\"31.5,-803.5 31.5,-839.5 224.5,-839.5 224.5,-803.5 31.5,-803.5\" stroke=\"black\"/>\n",
       "<text font-family=\"Times,serif\" font-size=\"14.00\" text-anchor=\"middle\" x=\"128\" y=\"-817.8\">activation_2 (Activation)</text>\n",
       "</g>\n",
       "<!-- 140435210467144&#45;&gt;140435210017984 -->\n",
       "<g class=\"edge\" id=\"edge7\"><title>140435210467144-&gt;140435210017984</title>\n",
       "<path d=\"M128,-876.313C128,-868.289 128,-858.547 128,-849.569\" fill=\"none\" stroke=\"black\"/>\n",
       "<polygon fill=\"black\" points=\"131.5,-849.529 128,-839.529 124.5,-849.529 131.5,-849.529\" stroke=\"black\"/>\n",
       "</g>\n",
       "<!-- 140435210516632 -->\n",
       "<g class=\"node\" id=\"node9\"><title>140435210516632</title>\n",
       "<polygon fill=\"none\" points=\"46.5,-730.5 46.5,-766.5 209.5,-766.5 209.5,-730.5 46.5,-730.5\" stroke=\"black\"/>\n",
       "<text font-family=\"Times,serif\" font-size=\"14.00\" text-anchor=\"middle\" x=\"128\" y=\"-744.8\">dropout_1 (Dropout)</text>\n",
       "</g>\n",
       "<!-- 140435210017984&#45;&gt;140435210516632 -->\n",
       "<g class=\"edge\" id=\"edge8\"><title>140435210017984-&gt;140435210516632</title>\n",
       "<path d=\"M128,-803.313C128,-795.289 128,-785.547 128,-776.569\" fill=\"none\" stroke=\"black\"/>\n",
       "<polygon fill=\"black\" points=\"131.5,-776.529 128,-766.529 124.5,-776.529 131.5,-776.529\" stroke=\"black\"/>\n",
       "</g>\n",
       "<!-- 140435209840624 -->\n",
       "<g class=\"node\" id=\"node10\"><title>140435209840624</title>\n",
       "<polygon fill=\"none\" points=\"0,-657.5 0,-693.5 256,-693.5 256,-657.5 0,-657.5\" stroke=\"black\"/>\n",
       "<text font-family=\"Times,serif\" font-size=\"14.00\" text-anchor=\"middle\" x=\"128\" y=\"-671.8\">convolution2d_3 (Convolution2D)</text>\n",
       "</g>\n",
       "<!-- 140435210516632&#45;&gt;140435209840624 -->\n",
       "<g class=\"edge\" id=\"edge9\"><title>140435210516632-&gt;140435209840624</title>\n",
       "<path d=\"M128,-730.313C128,-722.289 128,-712.547 128,-703.569\" fill=\"none\" stroke=\"black\"/>\n",
       "<polygon fill=\"black\" points=\"131.5,-703.529 128,-693.529 124.5,-703.529 131.5,-703.529\" stroke=\"black\"/>\n",
       "</g>\n",
       "<!-- 140435209921648 -->\n",
       "<g class=\"node\" id=\"node11\"><title>140435209921648</title>\n",
       "<polygon fill=\"none\" points=\"31.5,-584.5 31.5,-620.5 224.5,-620.5 224.5,-584.5 31.5,-584.5\" stroke=\"black\"/>\n",
       "<text font-family=\"Times,serif\" font-size=\"14.00\" text-anchor=\"middle\" x=\"128\" y=\"-598.8\">activation_3 (Activation)</text>\n",
       "</g>\n",
       "<!-- 140435209840624&#45;&gt;140435209921648 -->\n",
       "<g class=\"edge\" id=\"edge10\"><title>140435209840624-&gt;140435209921648</title>\n",
       "<path d=\"M128,-657.313C128,-649.289 128,-639.547 128,-630.569\" fill=\"none\" stroke=\"black\"/>\n",
       "<polygon fill=\"black\" points=\"131.5,-630.529 128,-620.529 124.5,-630.529 131.5,-630.529\" stroke=\"black\"/>\n",
       "</g>\n",
       "<!-- 140435209924680 -->\n",
       "<g class=\"node\" id=\"node12\"><title>140435209924680</title>\n",
       "<polygon fill=\"none\" points=\"46.5,-511.5 46.5,-547.5 209.5,-547.5 209.5,-511.5 46.5,-511.5\" stroke=\"black\"/>\n",
       "<text font-family=\"Times,serif\" font-size=\"14.00\" text-anchor=\"middle\" x=\"128\" y=\"-525.8\">dropout_2 (Dropout)</text>\n",
       "</g>\n",
       "<!-- 140435209921648&#45;&gt;140435209924680 -->\n",
       "<g class=\"edge\" id=\"edge11\"><title>140435209921648-&gt;140435209924680</title>\n",
       "<path d=\"M128,-584.313C128,-576.289 128,-566.547 128,-557.569\" fill=\"none\" stroke=\"black\"/>\n",
       "<polygon fill=\"black\" points=\"131.5,-557.529 128,-547.529 124.5,-557.529 131.5,-557.529\" stroke=\"black\"/>\n",
       "</g>\n",
       "<!-- 140435209970800 -->\n",
       "<g class=\"node\" id=\"node13\"><title>140435209970800</title>\n",
       "<polygon fill=\"none\" points=\"0,-438.5 0,-474.5 256,-474.5 256,-438.5 0,-438.5\" stroke=\"black\"/>\n",
       "<text font-family=\"Times,serif\" font-size=\"14.00\" text-anchor=\"middle\" x=\"128\" y=\"-452.8\">convolution2d_4 (Convolution2D)</text>\n",
       "</g>\n",
       "<!-- 140435209924680&#45;&gt;140435209970800 -->\n",
       "<g class=\"edge\" id=\"edge12\"><title>140435209924680-&gt;140435209970800</title>\n",
       "<path d=\"M128,-511.313C128,-503.289 128,-493.547 128,-484.569\" fill=\"none\" stroke=\"black\"/>\n",
       "<polygon fill=\"black\" points=\"131.5,-484.529 128,-474.529 124.5,-484.529 131.5,-484.529\" stroke=\"black\"/>\n",
       "</g>\n",
       "<!-- 140435207387792 -->\n",
       "<g class=\"node\" id=\"node14\"><title>140435207387792</title>\n",
       "<polygon fill=\"none\" points=\"31.5,-365.5 31.5,-401.5 224.5,-401.5 224.5,-365.5 31.5,-365.5\" stroke=\"black\"/>\n",
       "<text font-family=\"Times,serif\" font-size=\"14.00\" text-anchor=\"middle\" x=\"128\" y=\"-379.8\">activation_4 (Activation)</text>\n",
       "</g>\n",
       "<!-- 140435209970800&#45;&gt;140435207387792 -->\n",
       "<g class=\"edge\" id=\"edge13\"><title>140435209970800-&gt;140435207387792</title>\n",
       "<path d=\"M128,-438.313C128,-430.289 128,-420.547 128,-411.569\" fill=\"none\" stroke=\"black\"/>\n",
       "<polygon fill=\"black\" points=\"131.5,-411.529 128,-401.529 124.5,-411.529 131.5,-411.529\" stroke=\"black\"/>\n",
       "</g>\n",
       "<!-- 140435207366304 -->\n",
       "<g class=\"node\" id=\"node15\"><title>140435207366304</title>\n",
       "<polygon fill=\"none\" points=\"55,-292.5 55,-328.5 201,-328.5 201,-292.5 55,-292.5\" stroke=\"black\"/>\n",
       "<text font-family=\"Times,serif\" font-size=\"14.00\" text-anchor=\"middle\" x=\"128\" y=\"-306.8\">flatten_1 (Flatten)</text>\n",
       "</g>\n",
       "<!-- 140435207387792&#45;&gt;140435207366304 -->\n",
       "<g class=\"edge\" id=\"edge14\"><title>140435207387792-&gt;140435207366304</title>\n",
       "<path d=\"M128,-365.313C128,-357.289 128,-347.547 128,-338.569\" fill=\"none\" stroke=\"black\"/>\n",
       "<polygon fill=\"black\" points=\"131.5,-338.529 128,-328.529 124.5,-338.529 131.5,-338.529\" stroke=\"black\"/>\n",
       "</g>\n",
       "<!-- 140435206644232 -->\n",
       "<g class=\"node\" id=\"node16\"><title>140435206644232</title>\n",
       "<polygon fill=\"none\" points=\"61,-219.5 61,-255.5 195,-255.5 195,-219.5 61,-219.5\" stroke=\"black\"/>\n",
       "<text font-family=\"Times,serif\" font-size=\"14.00\" text-anchor=\"middle\" x=\"128\" y=\"-233.8\">dense_1 (Dense)</text>\n",
       "</g>\n",
       "<!-- 140435207366304&#45;&gt;140435206644232 -->\n",
       "<g class=\"edge\" id=\"edge15\"><title>140435207366304-&gt;140435206644232</title>\n",
       "<path d=\"M128,-292.313C128,-284.289 128,-274.547 128,-265.569\" fill=\"none\" stroke=\"black\"/>\n",
       "<polygon fill=\"black\" points=\"131.5,-265.529 128,-255.529 124.5,-265.529 131.5,-265.529\" stroke=\"black\"/>\n",
       "</g>\n",
       "<!-- 140435207598656 -->\n",
       "<g class=\"node\" id=\"node17\"><title>140435207598656</title>\n",
       "<polygon fill=\"none\" points=\"31.5,-146.5 31.5,-182.5 224.5,-182.5 224.5,-146.5 31.5,-146.5\" stroke=\"black\"/>\n",
       "<text font-family=\"Times,serif\" font-size=\"14.00\" text-anchor=\"middle\" x=\"128\" y=\"-160.8\">activation_5 (Activation)</text>\n",
       "</g>\n",
       "<!-- 140435206644232&#45;&gt;140435207598656 -->\n",
       "<g class=\"edge\" id=\"edge16\"><title>140435206644232-&gt;140435207598656</title>\n",
       "<path d=\"M128,-219.313C128,-211.289 128,-201.547 128,-192.569\" fill=\"none\" stroke=\"black\"/>\n",
       "<polygon fill=\"black\" points=\"131.5,-192.529 128,-182.529 124.5,-192.529 131.5,-192.529\" stroke=\"black\"/>\n",
       "</g>\n",
       "<!-- 140435207388632 -->\n",
       "<g class=\"node\" id=\"node18\"><title>140435207388632</title>\n",
       "<polygon fill=\"none\" points=\"46.5,-73.5 46.5,-109.5 209.5,-109.5 209.5,-73.5 46.5,-73.5\" stroke=\"black\"/>\n",
       "<text font-family=\"Times,serif\" font-size=\"14.00\" text-anchor=\"middle\" x=\"128\" y=\"-87.8\">dropout_3 (Dropout)</text>\n",
       "</g>\n",
       "<!-- 140435207598656&#45;&gt;140435207388632 -->\n",
       "<g class=\"edge\" id=\"edge17\"><title>140435207598656-&gt;140435207388632</title>\n",
       "<path d=\"M128,-146.313C128,-138.289 128,-128.547 128,-119.569\" fill=\"none\" stroke=\"black\"/>\n",
       "<polygon fill=\"black\" points=\"131.5,-119.529 128,-109.529 124.5,-119.529 131.5,-119.529\" stroke=\"black\"/>\n",
       "</g>\n",
       "<!-- 140435206718744 -->\n",
       "<g class=\"node\" id=\"node19\"><title>140435206718744</title>\n",
       "<polygon fill=\"none\" points=\"61,-0.5 61,-36.5 195,-36.5 195,-0.5 61,-0.5\" stroke=\"black\"/>\n",
       "<text font-family=\"Times,serif\" font-size=\"14.00\" text-anchor=\"middle\" x=\"128\" y=\"-14.8\">dense_2 (Dense)</text>\n",
       "</g>\n",
       "<!-- 140435207388632&#45;&gt;140435206718744 -->\n",
       "<g class=\"edge\" id=\"edge18\"><title>140435207388632-&gt;140435206718744</title>\n",
       "<path d=\"M128,-73.3129C128,-65.2895 128,-55.5475 128,-46.5691\" fill=\"none\" stroke=\"black\"/>\n",
       "<polygon fill=\"black\" points=\"131.5,-46.5288 128,-36.5288 124.5,-46.5289 131.5,-46.5288\" stroke=\"black\"/>\n",
       "</g>\n",
       "</g>\n",
       "</svg>"
      ],
      "text/plain": [
       "<IPython.core.display.SVG object>"
      ]
     },
     "execution_count": 6,
     "metadata": {},
     "output_type": "execute_result"
    }
   ],
   "source": [
    "s.show_model()"
   ]
  },
  {
   "cell_type": "code",
   "execution_count": 7,
   "metadata": {
    "collapsed": false,
    "scrolled": true
   },
   "outputs": [],
   "source": [
    "#s.evaluate_accuracy(1,1)"
   ]
  },
  {
   "cell_type": "code",
   "execution_count": null,
   "metadata": {
    "collapsed": true
   },
   "outputs": [],
   "source": []
  }
 ],
 "metadata": {
  "kernelspec": {
   "display_name": "Python 3",
   "language": "python",
   "name": "python3"
  },
  "language_info": {
   "codemirror_mode": {
    "name": "ipython",
    "version": 3
   },
   "file_extension": ".py",
   "mimetype": "text/x-python",
   "name": "python",
   "nbconvert_exporter": "python",
   "pygments_lexer": "ipython3",
   "version": "3.5.2"
  }
 },
 "nbformat": 4,
 "nbformat_minor": 0
}
